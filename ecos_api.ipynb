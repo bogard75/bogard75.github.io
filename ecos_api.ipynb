{
  "nbformat": 4,
  "nbformat_minor": 0,
  "metadata": {
    "colab": {
      "name": "ecos_api.ipynb",
      "provenance": [],
      "collapsed_sections": [],
      "authorship_tag": "ABX9TyPpcWMe+hHOopBHZNFnkNvf",
      "include_colab_link": true
    },
    "kernelspec": {
      "name": "python3",
      "display_name": "Python 3"
    }
  },
  "cells": [
    {
      "cell_type": "markdown",
      "metadata": {
        "id": "view-in-github",
        "colab_type": "text"
      },
      "source": [
        "<a href=\"https://colab.research.google.com/github/bogard75/bogard75.github.io/blob/master/ecos_api.ipynb\" target=\"_parent\"><img src=\"https://colab.research.google.com/assets/colab-badge.svg\" alt=\"Open In Colab\"/></a>"
      ]
    },
    {
      "cell_type": "code",
      "metadata": {
        "id": "99htwgQecOqx",
        "colab_type": "code",
        "colab": {}
      },
      "source": [
        "from bs4 import BeautifulSoup\n",
        "import requests\n",
        "import datetime as dt\n",
        "import numpy as np\n",
        "import pandas as pd"
      ],
      "execution_count": 0,
      "outputs": []
    },
    {
      "cell_type": "code",
      "metadata": {
        "id": "yd46NNLpeUxu",
        "colab_type": "code",
        "colab": {}
      },
      "source": [
        "#url = 'http://ecos.bok.or.kr/api/StatisticTableList/HSR8HN3LD76UPXWLXEDX/xml/kr/1/10/'\n",
        "#url = 'http://ecos.bok.or.kr/api/StatisticMeta/HSR8HN3LD76UPXWLXEDX/xml/kr/1/10/경제심리/'\n",
        "url = 'http://ecos.bok.or.kr/api/StatisticSearch/HSR8HN3LD76UPXWLXEDX/xml/kr/1/100/088Y002/MM/201101/202001/100000/C00'\n",
        "# 통계코드검색\n",
        "# 3. 예금/대출금/기타금융\n",
        "#    3.5 지역별 여수신\n",
        "#        3.5.1 예금은행 수신 및 여신\n",
        "#              3.5.1.1 예금은행 지역별예금(말잔)[088Y002]\n",
        "#                      원화예금[100000]\n",
        "#                      요구불예금[110000]\n",
        "#                      저축성예금[120000]\n",
        "\n",
        "api_key = 'HSR8HN3LD76UPXWLXEDX'\n",
        "url = 'http://ecos.bok.or.kr/api/StatisticSearch/{0}/xml/kr/1/100'.format(api_key) \n",
        "\n",
        "#ecos_request_data(url, '088Y002/MM/201101/202001/100000/X00')\n",
        "def ecos_request_data(url, item):\n",
        "    ret = requests.get('/'.join([url, item]))\n",
        "    xml = BeautifulSoup(ret.text, 'xml')\n",
        "    lst = [[r.find('TIME').contents[0], r.find('DATA_VALUE').contents[0]] for r in xml.find_all('row')]\n",
        "\n",
        "    data_value = item.split('/')[-1]\n",
        "    df = pd.DataFrame(lst, columns=['YYYYMM', data_value])\n",
        "    df['YYYYMM'] = pd.to_datetime(df['YYYYMM'], format='%Y%m', errors='coerce')\n",
        "    df[data_value] = pd.to_numeric(df[data_value], errors='coerce')\n",
        "    df = df.set_index('YYYYMM')\n",
        "    return df\n",
        "\n"
      ],
      "execution_count": 0,
      "outputs": []
    },
    {
      "cell_type": "code",
      "metadata": {
        "id": "OrXgLdxy6x9e",
        "colab_type": "code",
        "colab": {
          "base_uri": "https://localhost:8080/",
          "height": 35
        },
        "outputId": "02d7240a-e524-4446-8359-ad64d14903ac"
      },
      "source": [
        ""
      ],
      "execution_count": 205,
      "outputs": [
        {
          "output_type": "execute_result",
          "data": {
            "text/plain": [
              "'X00'"
            ]
          },
          "metadata": {
            "tags": []
          },
          "execution_count": 205
        }
      ]
    },
    {
      "cell_type": "code",
      "metadata": {
        "id": "qL0SlNMEfMo3",
        "colab_type": "code",
        "colab": {}
      },
      "source": [
        "dep_X00 = ecos_request_data(url, '088Y002/MM/201101/202001/100000/X00')  # 예금은행지역별예금말잔/원화예금/전국\n",
        "\n",
        "dep_A00 = ecos_request_data(url, '088Y002/MM/201101/202001/100000/A00')  # 예금은행지역별예금말잔/원화예금/서울\n",
        "dep_D00 = ecos_request_data(url, '088Y002/MM/201101/202001/100000/D00')  # 예금은행지역별예금말잔/원화예금/인천\n",
        "dep_L00 = ecos_request_data(url, '088Y002/MM/201101/202001/100000/L00')  # 예금은행지역별예금말잔/원화예금/경기\n",
        "\n",
        "dep_B00 = ecos_request_data(url, '088Y002/MM/201101/202001/100000/B00')  # 예금은행지역별예금말잔/원화예금/부산\n",
        "dep_G00 = ecos_request_data(url, '088Y002/MM/201101/202001/100000/G00')  # 예금은행지역별예금말잔/원화예금/울산\n",
        "dep_T00 = ecos_request_data(url, '088Y002/MM/201101/202001/100000/T00')  # 예금은행지역별예금말잔/원화예금/경남\n",
        "\n",
        "dep_C00 = ecos_request_data(url, '088Y002/MM/201101/202001/100000/C00')  # 예금은행지역별예금말잔/원화예금/대구\n",
        "dep_S00 = ecos_request_data(url, '088Y002/MM/201101/202001/100000/S00')  # 예금은행지역별예금말잔/원화예금/경북\n"
      ],
      "execution_count": 0,
      "outputs": []
    },
    {
      "cell_type": "code",
      "metadata": {
        "id": "nVmx5v_y7aGd",
        "colab_type": "code",
        "colab": {}
      },
      "source": [
        "deposit = pd.concat([dep_A00,dep_D00,dep_L00,dep_B00,dep_G00,dep_T00,dep_C00,dep_S00],axis=1)\n",
        "#deposit['수도권']=deposit['A00']+deposit['D00']+deposit['L00']\n",
        "#deposit['부울경']=deposit['B00']+deposit['G00']+deposit['T00']\n",
        "#deposit['대경권']=deposit['C00']+deposit['S00']"
      ],
      "execution_count": 0,
      "outputs": []
    },
    {
      "cell_type": "code",
      "metadata": {
        "id": "Wmo7R9PH7HQF",
        "colab_type": "code",
        "colab": {
          "base_uri": "https://localhost:8080/",
          "height": 558
        },
        "outputId": "30f11084-3787-492e-e24b-26d64e73ec5b"
      },
      "source": [
        "deposit.drop(columns=['A00','L00','B00','C00']).plot()\n",
        "deposit[['B00','C00']].plot()"
      ],
      "execution_count": 227,
      "outputs": [
        {
          "output_type": "execute_result",
          "data": {
            "text/plain": [
              "<matplotlib.axes._subplots.AxesSubplot at 0x7f99693af400>"
            ]
          },
          "metadata": {
            "tags": []
          },
          "execution_count": 227
        },
        {
          "output_type": "display_data",
          "data": {
            "image/png": "[encoded data removed]",
            "text/plain": [
              "<Figure size 432x288 with 1 Axes>"
            ]
          },
          "metadata": {
            "tags": [],
            "needs_background": "light"
          }
        },
        {
          "output_type": "display_data",
          "data": {
            "image/png": "[encoded data removed]",
            "text/plain": [
              "<Figure size 432x288 with 1 Axes>"
            ]
          },
          "metadata": {
            "tags": [],
            "needs_background": "light"
          }
        }
      ]
    },
    {
      "cell_type": "code",
      "metadata": {
        "id": "qGBbARcHupYV",
        "colab_type": "code",
        "colab": {
          "base_uri": "https://localhost:8080/",
          "height": 282
        },
        "outputId": "e7a9a6dd-ce13-4fba-8595-df0fa3efedcd"
      },
      "source": [
        "import matplotlib.pyplot as plt\n",
        "\n",
        "#plt.plot(예금은행지역별예금말잔_원화예금_수도권)\n",
        "plt.plot(예금은행지역별예금말잔_원화예금_부울경)\n",
        "plt.plot(예금은행지역별예금말잔_원화예금_대경권)"
      ],
      "execution_count": 179,
      "outputs": [
        {
          "output_type": "execute_result",
          "data": {
            "text/plain": [
              "[<matplotlib.lines.Line2D at 0x7f9968c96630>]"
            ]
          },
          "metadata": {
            "tags": []
          },
          "execution_count": 179
        },
        {
          "output_type": "display_data",
          "data": {
            "image/png": "[encoded data removed]",
            "text/plain": [
              "<Figure size 432x288 with 1 Axes>"
            ]
          },
          "metadata": {
            "tags": [],
            "needs_background": "light"
          }
        }
      ]
    },
    {
      "cell_type": "code",
      "metadata": {
        "id": "Z4eo43MK3BOG",
        "colab_type": "code",
        "colab": {
          "base_uri": "https://localhost:8080/",
          "height": 420
        },
        "outputId": "103d1b49-b65e-4bcc-aa85-7c0080fc40f7"
      },
      "source": [
        " \n",
        "  .rename(columns={0:'SEOUL',1:'INCHEON',2:'KYUNGKI',3:'BUSAN',4:'ULSAN',5:'KYUNGNAM',6:'DAEGU',7:'KYUNGBUK'})"
      ],
      "execution_count": 203,
      "outputs": [
        {
          "output_type": "execute_result",
          "data": {
            "text/html": [
              "<div>\n",
              "<style scoped>\n",
              "    .dataframe tbody tr th:only-of-type {\n",
              "        vertical-align: middle;\n",
              "    }\n",
              "\n",
              "    .dataframe tbody tr th {\n",
              "        vertical-align: top;\n",
              "    }\n",
              "\n",
              "    .dataframe thead th {\n",
              "        text-align: right;\n",
              "    }\n",
              "</style>\n",
              "<table border=\"1\" class=\"dataframe\">\n",
              "  <thead>\n",
              "    <tr style=\"text-align: right;\">\n",
              "      <th></th>\n",
              "      <th>Value</th>\n",
              "      <th>Value</th>\n",
              "      <th>Value</th>\n",
              "      <th>Value</th>\n",
              "      <th>Value</th>\n",
              "      <th>Value</th>\n",
              "      <th>Value</th>\n",
              "      <th>Value</th>\n",
              "    </tr>\n",
              "    <tr>\n",
              "      <th>YYYYMM</th>\n",
              "      <th></th>\n",
              "      <th></th>\n",
              "      <th></th>\n",
              "      <th></th>\n",
              "      <th></th>\n",
              "      <th></th>\n",
              "      <th></th>\n",
              "      <th></th>\n",
              "    </tr>\n",
              "  </thead>\n",
              "  <tbody>\n",
              "    <tr>\n",
              "      <th>2011-01-01</th>\n",
              "      <td>483595.0</td>\n",
              "      <td>26341.4</td>\n",
              "      <td>118747.7</td>\n",
              "      <td>49026.7</td>\n",
              "      <td>11670.9</td>\n",
              "      <td>29898.1</td>\n",
              "      <td>30278.2</td>\n",
              "      <td>19502.3</td>\n",
              "    </tr>\n",
              "    <tr>\n",
              "      <th>2011-02-01</th>\n",
              "      <td>492042.1</td>\n",
              "      <td>27221.7</td>\n",
              "      <td>120523.5</td>\n",
              "      <td>50003.9</td>\n",
              "      <td>11624.6</td>\n",
              "      <td>30133.8</td>\n",
              "      <td>30637.9</td>\n",
              "      <td>19785.8</td>\n",
              "    </tr>\n",
              "    <tr>\n",
              "      <th>2011-03-01</th>\n",
              "      <td>486369.2</td>\n",
              "      <td>27490.6</td>\n",
              "      <td>122370.8</td>\n",
              "      <td>50744.8</td>\n",
              "      <td>11504.6</td>\n",
              "      <td>30289.5</td>\n",
              "      <td>30383.5</td>\n",
              "      <td>20087.2</td>\n",
              "    </tr>\n",
              "    <tr>\n",
              "      <th>2011-04-01</th>\n",
              "      <td>488183.4</td>\n",
              "      <td>27378.7</td>\n",
              "      <td>123342.4</td>\n",
              "      <td>51812.2</td>\n",
              "      <td>11642.4</td>\n",
              "      <td>30853.0</td>\n",
              "      <td>30996.5</td>\n",
              "      <td>20276.1</td>\n",
              "    </tr>\n",
              "    <tr>\n",
              "      <th>2011-05-01</th>\n",
              "      <td>486636.1</td>\n",
              "      <td>27628.1</td>\n",
              "      <td>123272.3</td>\n",
              "      <td>52196.3</td>\n",
              "      <td>11729.8</td>\n",
              "      <td>31182.4</td>\n",
              "      <td>30941.1</td>\n",
              "      <td>20795.3</td>\n",
              "    </tr>\n",
              "    <tr>\n",
              "      <th>...</th>\n",
              "      <td>...</td>\n",
              "      <td>...</td>\n",
              "      <td>...</td>\n",
              "      <td>...</td>\n",
              "      <td>...</td>\n",
              "      <td>...</td>\n",
              "      <td>...</td>\n",
              "      <td>...</td>\n",
              "    </tr>\n",
              "    <tr>\n",
              "      <th>2018-12-01</th>\n",
              "      <td>728762.8</td>\n",
              "      <td>44338.0</td>\n",
              "      <td>206787.8</td>\n",
              "      <td>80983.6</td>\n",
              "      <td>15886.4</td>\n",
              "      <td>43841.2</td>\n",
              "      <td>48437.4</td>\n",
              "      <td>32334.2</td>\n",
              "    </tr>\n",
              "    <tr>\n",
              "      <th>2019-01-01</th>\n",
              "      <td>717318.2</td>\n",
              "      <td>44028.9</td>\n",
              "      <td>206126.0</td>\n",
              "      <td>79774.1</td>\n",
              "      <td>16247.5</td>\n",
              "      <td>44050.1</td>\n",
              "      <td>48996.8</td>\n",
              "      <td>31749.6</td>\n",
              "    </tr>\n",
              "    <tr>\n",
              "      <th>2019-02-01</th>\n",
              "      <td>723268.8</td>\n",
              "      <td>44578.6</td>\n",
              "      <td>207995.7</td>\n",
              "      <td>80197.0</td>\n",
              "      <td>16755.4</td>\n",
              "      <td>45255.9</td>\n",
              "      <td>50085.2</td>\n",
              "      <td>32284.8</td>\n",
              "    </tr>\n",
              "    <tr>\n",
              "      <th>2019-03-01</th>\n",
              "      <td>736828.2</td>\n",
              "      <td>45006.0</td>\n",
              "      <td>209863.8</td>\n",
              "      <td>82607.8</td>\n",
              "      <td>16782.4</td>\n",
              "      <td>46300.5</td>\n",
              "      <td>50210.7</td>\n",
              "      <td>32741.1</td>\n",
              "    </tr>\n",
              "    <tr>\n",
              "      <th>2019-04-01</th>\n",
              "      <td>723518.5</td>\n",
              "      <td>45368.8</td>\n",
              "      <td>211397.8</td>\n",
              "      <td>81625.5</td>\n",
              "      <td>16742.2</td>\n",
              "      <td>46192.8</td>\n",
              "      <td>51060.5</td>\n",
              "      <td>33670.1</td>\n",
              "    </tr>\n",
              "  </tbody>\n",
              "</table>\n",
              "<p>100 rows × 8 columns</p>\n",
              "</div>"
            ],
            "text/plain": [
              "               Value    Value     Value  ...    Value    Value    Value\n",
              "YYYYMM                                   ...                           \n",
              "2011-01-01  483595.0  26341.4  118747.7  ...  29898.1  30278.2  19502.3\n",
              "2011-02-01  492042.1  27221.7  120523.5  ...  30133.8  30637.9  19785.8\n",
              "2011-03-01  486369.2  27490.6  122370.8  ...  30289.5  30383.5  20087.2\n",
              "2011-04-01  488183.4  27378.7  123342.4  ...  30853.0  30996.5  20276.1\n",
              "2011-05-01  486636.1  27628.1  123272.3  ...  31182.4  30941.1  20795.3\n",
              "...              ...      ...       ...  ...      ...      ...      ...\n",
              "2018-12-01  728762.8  44338.0  206787.8  ...  43841.2  48437.4  32334.2\n",
              "2019-01-01  717318.2  44028.9  206126.0  ...  44050.1  48996.8  31749.6\n",
              "2019-02-01  723268.8  44578.6  207995.7  ...  45255.9  50085.2  32284.8\n",
              "2019-03-01  736828.2  45006.0  209863.8  ...  46300.5  50210.7  32741.1\n",
              "2019-04-01  723518.5  45368.8  211397.8  ...  46192.8  51060.5  33670.1\n",
              "\n",
              "[100 rows x 8 columns]"
            ]
          },
          "metadata": {
            "tags": []
          },
          "execution_count": 203
        }
      ]
    },
    {
      "cell_type": "code",
      "metadata": {
        "id": "d3T8Md_b5cz-",
        "colab_type": "code",
        "colab": {
          "base_uri": "https://localhost:8080/",
          "height": 420
        },
        "outputId": "d2a5c3ea-978c-4023-cd5d-6f34e10c858e"
      },
      "source": [
        "dep_A00.rename(columns={'Value':'A00'})"
      ],
      "execution_count": 196,
      "outputs": [
        {
          "output_type": "execute_result",
          "data": {
            "text/html": [
              "<div>\n",
              "<style scoped>\n",
              "    .dataframe tbody tr th:only-of-type {\n",
              "        vertical-align: middle;\n",
              "    }\n",
              "\n",
              "    .dataframe tbody tr th {\n",
              "        vertical-align: top;\n",
              "    }\n",
              "\n",
              "    .dataframe thead th {\n",
              "        text-align: right;\n",
              "    }\n",
              "</style>\n",
              "<table border=\"1\" class=\"dataframe\">\n",
              "  <thead>\n",
              "    <tr style=\"text-align: right;\">\n",
              "      <th></th>\n",
              "      <th>A00</th>\n",
              "    </tr>\n",
              "    <tr>\n",
              "      <th>YYYYMM</th>\n",
              "      <th></th>\n",
              "    </tr>\n",
              "  </thead>\n",
              "  <tbody>\n",
              "    <tr>\n",
              "      <th>2011-01-01</th>\n",
              "      <td>483595.0</td>\n",
              "    </tr>\n",
              "    <tr>\n",
              "      <th>2011-02-01</th>\n",
              "      <td>492042.1</td>\n",
              "    </tr>\n",
              "    <tr>\n",
              "      <th>2011-03-01</th>\n",
              "      <td>486369.2</td>\n",
              "    </tr>\n",
              "    <tr>\n",
              "      <th>2011-04-01</th>\n",
              "      <td>488183.4</td>\n",
              "    </tr>\n",
              "    <tr>\n",
              "      <th>2011-05-01</th>\n",
              "      <td>486636.1</td>\n",
              "    </tr>\n",
              "    <tr>\n",
              "      <th>...</th>\n",
              "      <td>...</td>\n",
              "    </tr>\n",
              "    <tr>\n",
              "      <th>2018-12-01</th>\n",
              "      <td>728762.8</td>\n",
              "    </tr>\n",
              "    <tr>\n",
              "      <th>2019-01-01</th>\n",
              "      <td>717318.2</td>\n",
              "    </tr>\n",
              "    <tr>\n",
              "      <th>2019-02-01</th>\n",
              "      <td>723268.8</td>\n",
              "    </tr>\n",
              "    <tr>\n",
              "      <th>2019-03-01</th>\n",
              "      <td>736828.2</td>\n",
              "    </tr>\n",
              "    <tr>\n",
              "      <th>2019-04-01</th>\n",
              "      <td>723518.5</td>\n",
              "    </tr>\n",
              "  </tbody>\n",
              "</table>\n",
              "<p>100 rows × 1 columns</p>\n",
              "</div>"
            ],
            "text/plain": [
              "                 A00\n",
              "YYYYMM              \n",
              "2011-01-01  483595.0\n",
              "2011-02-01  492042.1\n",
              "2011-03-01  486369.2\n",
              "2011-04-01  488183.4\n",
              "2011-05-01  486636.1\n",
              "...              ...\n",
              "2018-12-01  728762.8\n",
              "2019-01-01  717318.2\n",
              "2019-02-01  723268.8\n",
              "2019-03-01  736828.2\n",
              "2019-04-01  723518.5\n",
              "\n",
              "[100 rows x 1 columns]"
            ]
          },
          "metadata": {
            "tags": []
          },
          "execution_count": 196
        }
      ]
    }
  ]
}