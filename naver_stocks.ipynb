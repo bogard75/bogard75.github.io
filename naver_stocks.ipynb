{
  "nbformat": 4,
  "nbformat_minor": 0,
  "metadata": {
    "colab": {
      "name": "naver_stocks.ipynb",
      "provenance": [],
      "toc_visible": true,
      "authorship_tag": "ABX9TyMC5UIctJaJ76pk6r4dLTAA",
      "include_colab_link": true
    },
    "kernelspec": {
      "name": "python3",
      "display_name": "Python 3"
    }
  },
  "cells": [
    {
      "cell_type": "markdown",
      "metadata": {
        "id": "view-in-github",
        "colab_type": "text"
      },
      "source": [
        "<a href=\"https://colab.research.google.com/github/bogard75/bogard75.github.io/blob/master/naver_stocks.ipynb\" target=\"_parent\"><img src=\"https://colab.research.google.com/assets/colab-badge.svg\" alt=\"Open In Colab\"/></a>"
      ]
    },
    {
      "cell_type": "markdown",
      "metadata": {
        "id": "pDvenZ053Dhr",
        "colab_type": "text"
      },
      "source": [
        "##Import"
      ]
    },
    {
      "cell_type": "code",
      "metadata": {
        "id": "0lcYaEXS3AU8",
        "colab_type": "code",
        "colab": {}
      },
      "source": [
        "import numpy as np\n",
        "import pandas as pd\n",
        "from datetime import datetime\n",
        "\n",
        "import requests\n",
        "import threading\n",
        "import numpy as np\n",
        "import io\n",
        "from bs4 import BeautifulSoup"
      ],
      "execution_count": 0,
      "outputs": []
    },
    {
      "cell_type": "markdown",
      "metadata": {
        "id": "RoIQYcgJ1YhZ",
        "colab_type": "text"
      },
      "source": [
        "## 함수정의"
      ]
    },
    {
      "cell_type": "code",
      "metadata": {
        "id": "2oilH_zC1cDa",
        "colab_type": "code",
        "colab": {}
      },
      "source": [
        "def naver_sise_time(stock, date):\n",
        "    print(\"[%s] %s\" % (stock, date))\n",
        "    \n",
        "    data = []\n",
        "    for c in range(1, 50):\n",
        "        url = \"http://finance.naver.com/item/sise_time.nhn?code=%s&thistime=%s160000&page=%s\" \\\n",
        "              % (stock, date, c)\n",
        "        response = requests.get(url)\n",
        "        soup = BeautifulSoup(response.text.encode('utf-8'), 'html.parser')\n",
        "        quotes = soup.find_all('span', {'class': ['tah', 'p10']})\n",
        "\n",
        "        for li in quotes:\n",
        "            data.append(li.text.strip())\n",
        "        try:\n",
        "            if data[-7] == '09:00':\n",
        "                break\n",
        "        except:\n",
        "            pass\n",
        "        \n",
        "    # 체결시각 체결가 전일비 매도 매수 거래량 변동량\n",
        "    if len(data) == 0 :\n",
        "        r = np.zeros(shape=(1,9))\n",
        "    else:\n",
        "        quote = np.reshape(np.array(data), (-1, 7)).tolist()\n",
        "        r = [[date] + [stock] + i for i in quote]\n",
        "        r = np.array(r)\n",
        "    print(r.shape)\n",
        "    \n",
        "    return r\n",
        "\n",
        "# 종목코드\n",
        "def naver_sise_market_sum():\n",
        "    d = pd.DataFrame() \n",
        "       \n",
        "    for c in range(1, 50):\n",
        "        url = \"https://finance.naver.com/sise/sise_market_sum.nhn?sosok=0&page=%s\" % (c)\n",
        "        print(url)\n",
        "        response = requests.get(url)\n",
        "        soup = BeautifulSoup(response.text.encode('utf-8'), 'html.parser')\n",
        "        tbl = soup.select('.type_2')[0]\n",
        "        tbl_rows = tbl.find_all('tr')\n",
        "        l = []\n",
        "        for tr in tbl_rows:\n",
        "            td = tr.find_all('td')\n",
        "            row = [tr.text.replace('\\n','').replace('\\t','') for tr in td]\n",
        "            try:\n",
        "                stock_code = tr.select('.tltle')[0]['href'].split('=')[1]\n",
        "                row.insert(1, stock_code)\n",
        "                l.append(row)\n",
        "            except:\n",
        "                pass\n",
        "            \n",
        "        try:\n",
        "            columns = ['N','종목코드','종목명','현재가','전일비','등락률','액면가','시가총액','상장주식수','외국인비율','거래량','PER','ROE','토론방']\n",
        "            df = pd.DataFrame(l, columns=columns)\n",
        "            df = df[pd.to_numeric(df.N) > 0].set_index('N').drop(columns='토론방')\n",
        "            d = d.append(df)\n",
        "        except:\n",
        "            pass\n",
        "        \n",
        "    return d"
      ],
      "execution_count": 0,
      "outputs": []
    },
    {
      "cell_type": "code",
      "metadata": {
        "id": "pH-_IhUR1f68",
        "colab_type": "code",
        "outputId": "9ac7764b-a813-474d-9421-1bbfe15a22a2",
        "colab": {
          "base_uri": "https://localhost:8080/",
          "height": 875
        }
      },
      "source": [
        "\n",
        "if __name__=='__main__':\n",
        "    # 네이버 코스피 종목코드를 받아서\n",
        "    stocks = naver_sise_market_sum()\n",
        "    stocks.to_pickle(\"./stocks_20200206\")\n",
        "\n",
        "    # 기간동안 거래량을 입수하여\n",
        "    days = pd.date_range('20200206', '20200206', ).strftime('%Y%m%d')\n",
        "    r = np.vstack([np.vstack([naver_sise_time(stock=s, date=d) for d in days]) for s in stocks.종목코드])\n",
        "    \n",
        "    # 데이터프레임으로 작성함\n",
        "    columns = ['기준일자','종목코드','체결시각','체결가','전일비','매도','매수','거래량','변동량']\n",
        "    df = pd.DataFrame(r, columns=columns)\n",
        "    df = df[df.기준일자.str.len()>=8].reset_index(drop=True)\n",
        "    to_numeric = ['체결가','전일비','매도','매수','거래량','변동량']\n",
        "    for c in to_numeric:\n",
        "        df[c] = df[c].str.replace(',','').apply(pd.to_numeric)\n",
        "    \n",
        "    # Pickle로 저장\n",
        "    df.to_pickle(\"./naver_sise_time_20200206\")"
      ],
      "execution_count": 3,
      "outputs": [
        {
          "output_type": "stream",
          "text": [
            "https://finance.naver.com/sise/sise_market_sum.nhn?sosok=0&page=1\n",
            "https://finance.naver.com/sise/sise_market_sum.nhn?sosok=0&page=2\n",
            "https://finance.naver.com/sise/sise_market_sum.nhn?sosok=0&page=3\n",
            "https://finance.naver.com/sise/sise_market_sum.nhn?sosok=0&page=4\n",
            "https://finance.naver.com/sise/sise_market_sum.nhn?sosok=0&page=5\n",
            "https://finance.naver.com/sise/sise_market_sum.nhn?sosok=0&page=6\n",
            "https://finance.naver.com/sise/sise_market_sum.nhn?sosok=0&page=7\n",
            "https://finance.naver.com/sise/sise_market_sum.nhn?sosok=0&page=8\n",
            "https://finance.naver.com/sise/sise_market_sum.nhn?sosok=0&page=9\n",
            "https://finance.naver.com/sise/sise_market_sum.nhn?sosok=0&page=10\n",
            "https://finance.naver.com/sise/sise_market_sum.nhn?sosok=0&page=11\n",
            "https://finance.naver.com/sise/sise_market_sum.nhn?sosok=0&page=12\n",
            "https://finance.naver.com/sise/sise_market_sum.nhn?sosok=0&page=13\n",
            "https://finance.naver.com/sise/sise_market_sum.nhn?sosok=0&page=14\n",
            "https://finance.naver.com/sise/sise_market_sum.nhn?sosok=0&page=15\n",
            "https://finance.naver.com/sise/sise_market_sum.nhn?sosok=0&page=16\n",
            "https://finance.naver.com/sise/sise_market_sum.nhn?sosok=0&page=17\n",
            "https://finance.naver.com/sise/sise_market_sum.nhn?sosok=0&page=18\n",
            "https://finance.naver.com/sise/sise_market_sum.nhn?sosok=0&page=19\n",
            "https://finance.naver.com/sise/sise_market_sum.nhn?sosok=0&page=20\n",
            "https://finance.naver.com/sise/sise_market_sum.nhn?sosok=0&page=21\n",
            "https://finance.naver.com/sise/sise_market_sum.nhn?sosok=0&page=22\n",
            "https://finance.naver.com/sise/sise_market_sum.nhn?sosok=0&page=23\n",
            "https://finance.naver.com/sise/sise_market_sum.nhn?sosok=0&page=24\n",
            "https://finance.naver.com/sise/sise_market_sum.nhn?sosok=0&page=25\n",
            "https://finance.naver.com/sise/sise_market_sum.nhn?sosok=0&page=26\n",
            "https://finance.naver.com/sise/sise_market_sum.nhn?sosok=0&page=27\n",
            "https://finance.naver.com/sise/sise_market_sum.nhn?sosok=0&page=28\n",
            "https://finance.naver.com/sise/sise_market_sum.nhn?sosok=0&page=29\n",
            "https://finance.naver.com/sise/sise_market_sum.nhn?sosok=0&page=30\n",
            "https://finance.naver.com/sise/sise_market_sum.nhn?sosok=0&page=31\n",
            "https://finance.naver.com/sise/sise_market_sum.nhn?sosok=0&page=32\n",
            "https://finance.naver.com/sise/sise_market_sum.nhn?sosok=0&page=33\n",
            "https://finance.naver.com/sise/sise_market_sum.nhn?sosok=0&page=34\n",
            "https://finance.naver.com/sise/sise_market_sum.nhn?sosok=0&page=35\n",
            "https://finance.naver.com/sise/sise_market_sum.nhn?sosok=0&page=36\n",
            "https://finance.naver.com/sise/sise_market_sum.nhn?sosok=0&page=37\n",
            "https://finance.naver.com/sise/sise_market_sum.nhn?sosok=0&page=38\n",
            "https://finance.naver.com/sise/sise_market_sum.nhn?sosok=0&page=39\n",
            "https://finance.naver.com/sise/sise_market_sum.nhn?sosok=0&page=40\n",
            "https://finance.naver.com/sise/sise_market_sum.nhn?sosok=0&page=41\n",
            "https://finance.naver.com/sise/sise_market_sum.nhn?sosok=0&page=42\n",
            "https://finance.naver.com/sise/sise_market_sum.nhn?sosok=0&page=43\n",
            "https://finance.naver.com/sise/sise_market_sum.nhn?sosok=0&page=44\n",
            "https://finance.naver.com/sise/sise_market_sum.nhn?sosok=0&page=45\n",
            "https://finance.naver.com/sise/sise_market_sum.nhn?sosok=0&page=46\n",
            "https://finance.naver.com/sise/sise_market_sum.nhn?sosok=0&page=47\n",
            "https://finance.naver.com/sise/sise_market_sum.nhn?sosok=0&page=48\n",
            "https://finance.naver.com/sise/sise_market_sum.nhn?sosok=0&page=49\n"
          ],
          "name": "stdout"
        }
      ]
    },
    {
      "cell_type": "code",
      "metadata": {
        "id": "Xac-oO_k36DH",
        "colab_type": "code",
        "colab": {}
      },
      "source": [
        "stocks.to_csv('stocks.csv')"
      ],
      "execution_count": 0,
      "outputs": []
    }
  ]
}